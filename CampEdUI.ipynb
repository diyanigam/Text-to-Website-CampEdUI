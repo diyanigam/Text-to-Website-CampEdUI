{
  "nbformat": 4,
  "nbformat_minor": 0,
  "metadata": {
    "colab": {
      "provenance": [],
      "gpuType": "T4",
      "authorship_tag": "ABX9TyMTDUf2dnFao/K14G16sxh8",
      "include_colab_link": true
    },
    "kernelspec": {
      "name": "python3",
      "display_name": "Python 3"
    },
    "language_info": {
      "name": "python"
    },
    "accelerator": "GPU"
  },
  "cells": [
    {
      "cell_type": "markdown",
      "metadata": {
        "id": "view-in-github",
        "colab_type": "text"
      },
      "source": [
        "<a href=\"https://colab.research.google.com/github/diyanigam/Text-to-Website-CampEdUI/blob/main/CampEdUI.ipynb\" target=\"_parent\"><img src=\"https://colab.research.google.com/assets/colab-badge.svg\" alt=\"Open In Colab\"/></a>"
      ]
    },
    {
      "cell_type": "code",
      "source": [
        "import re\n",
        "from collections import defaultdict\n",
        "# cheatsheet contains all the components, tags and description\n",
        "def parse_cheatsheet(file_path):\n",
        "    with open(file_path, 'r') as f:\n",
        "        lines = f.readlines()\n",
        "\n",
        "    components_by_package = defaultdict(list)\n",
        "    tag_to_package = {}\n",
        "    tag_descriptions = {}\n",
        "    current_package = None\n",
        "    current_desc = \"\"\n",
        "\n",
        "    for line in lines:\n",
        "        line = line.strip()\n",
        "\n",
        "        if line.startswith(\"- @camped-ui/\"):\n",
        "            current_package = line.split()[0][2:]\n",
        "        elif line.startswith(\"Description:\"):\n",
        "            current_desc = line.replace(\"Description:\", \"\").strip()\n",
        "        elif line.startswith(\"• <\"):\n",
        "            tag = re.findall(r\"<(.*?)>\", line)[0]\n",
        "            components_by_package[current_package].append(tag)\n",
        "            tag_to_package[tag] = current_package\n",
        "            tag_descriptions[tag] = current_desc\n",
        "\n",
        "    return components_by_package, tag_to_package, tag_descriptions"
      ],
      "metadata": {
        "id": "bBzsw2YsiyHU"
      },
      "execution_count": 33,
      "outputs": []
    },
    {
      "cell_type": "code",
      "source": [
        "# tags present in the prompt\n",
        "def infer_components_from_prompt(prompt, tag_to_package):\n",
        "    used_tags = []\n",
        "    for tag in tag_to_package:\n",
        "        if tag.lower() in prompt.lower():\n",
        "            used_tags.append(tag)\n",
        "    return list(set(used_tags))\n",
        "\n",
        "\n",
        "# import lines for tags\n",
        "def generate_imports(used_tags, tag_to_package):\n",
        "    pkg_to_tags = defaultdict(list)\n",
        "    for tag in used_tags:\n",
        "        pkg = tag_to_package.get(tag)\n",
        "        if pkg:\n",
        "            pkg_to_tags[pkg].append(tag)\n",
        "\n",
        "    import_lines = []\n",
        "    for pkg, tags in pkg_to_tags.items():\n",
        "        line = f'import {{ {\", \".join(sorted(set(tags))) } }} from \"{pkg}\";'\n",
        "        import_lines.append(line)\n",
        "\n",
        "    return \"\\n\".join(import_lines)"
      ],
      "metadata": {
        "id": "NskVHxQOiyKW"
      },
      "execution_count": 34,
      "outputs": []
    },
    {
      "cell_type": "code",
      "source": [
        "def build_prompt(prompt_text, import_block):\n",
        "    return f\"\"\"\n",
        "### Instruction:\n",
        "You are a Next.js code generator.\n",
        "\n",
        "ONLY use components from Camped UI (https://ui.camped.academy/docs/components).\n",
        "NEVER use raw HTML like <input>, <form>, or <button>.\n",
        "\n",
        "Use Tailwind CSS for layout.\n",
        "Output valid JSX code for a Next.js page.\n",
        "\n",
        "For Example, to make a card component with name input field, a framework drop-down menu, deploy and cancel button, the following should be the output:\n",
        "import {{ Button }} from \"@camped-ui/button\"\n",
        "import {{\n",
        "  Card,\n",
        "  CardContent,\n",
        "  CardDescription,\n",
        "  CardFooter,\n",
        "  CardHeader,\n",
        "  CardTitle,\n",
        "}} from \"@camped-ui/card\"\n",
        "import {{ Input }} from \"@camped-ui/input\"\n",
        "import {{ Label }} from \"@camped-ui/label\"\n",
        "import {{\n",
        "  Select,\n",
        "  SelectContent,\n",
        "  SelectItem,\n",
        "  SelectTrigger,\n",
        "  SelectValue,\n",
        "}} from \"@camped-ui/select\"\n",
        "\n",
        "export function CardWithForm() {{\n",
        "  return (\n",
        "    <Card className=\"w-[350px]\">\n",
        "      <CardHeader>\n",
        "        <CardTitle>Create project</CardTitle>\n",
        "        <CardDescription>Deploy your new project in one-click.</CardDescription>\n",
        "      </CardHeader>\n",
        "      <CardContent>\n",
        "        <form>\n",
        "          <div className=\"grid w-full items-center gap-4\">\n",
        "            <div className=\"flex flex-col space-y-1.5\">\n",
        "              <Label htmlFor=\"name\">Name</Label>\n",
        "              <Input id=\"name\" placeholder=\"Name of your project\" />\n",
        "            </div>\n",
        "            <div className=\"flex flex-col space-y-1.5\">\n",
        "              <Label htmlFor=\"framework\">Framework</Label>\n",
        "              <Select>\n",
        "                <SelectTrigger id=\"framework\">\n",
        "                  <SelectValue placeholder=\"Select\" />\n",
        "                </SelectTrigger>\n",
        "                <SelectContent position=\"popper\">\n",
        "                  <SelectItem value=\"next\">Next.js</SelectItem>\n",
        "                  <SelectItem value=\"sveltekit\">SvelteKit</SelectItem>\n",
        "                  <SelectItem value=\"astro\">Astro</SelectItem>\n",
        "                  <SelectItem value=\"nuxt\">Nuxt.js</SelectItem>\n",
        "                </SelectContent>\n",
        "              </Select>\n",
        "            </div>\n",
        "          </div>\n",
        "        </form>\n",
        "      </CardContent>\n",
        "      <CardFooter className=\"flex justify-between\">\n",
        "        <Button variant=\"outline\">Cancel</Button>\n",
        "        <Button>Deploy</Button>\n",
        "      </CardFooter>\n",
        "    </Card>\n",
        "  )\n",
        "}}\n",
        "\n",
        "Here are the allowed imports:\n",
        "{import_block}\n",
        "\n",
        "### Prompt:\n",
        "{prompt_text}\n",
        "\n",
        "### Response:\n",
        "\"\"\".strip()\n"
      ],
      "metadata": {
        "id": "csOUvXUZiyNM"
      },
      "execution_count": 35,
      "outputs": []
    },
    {
      "cell_type": "code",
      "source": [
        "# generate output\n",
        "\n",
        "def run_generation(user_prompt, generator, components_by_package, tag_to_package):\n",
        "    used_tags = infer_components_from_prompt(user_prompt, tag_to_package)\n",
        "    if not used_tags:\n",
        "        used_tags = [\"Button\", \"Card\", \"CardContent\", \"CardHeader\", \"CardTitle\", \"Label\", \"Text\"]\n",
        "\n",
        "    import_block = generate_imports(used_tags, tag_to_package)\n",
        "    full_prompt = build_prompt(user_prompt, import_block)\n",
        "    output = generator(full_prompt, max_new_tokens=512, do_sample=True, temperature=0.7, return_full_text=False)\n",
        "    return output[0][\"generated_text\"].strip()\n"
      ],
      "metadata": {
        "id": "xlV01iKNjGIP"
      },
      "execution_count": 36,
      "outputs": []
    },
    {
      "cell_type": "code",
      "source": [
        "from transformers import AutoTokenizer, AutoModelForCausalLM, pipeline\n",
        "\n",
        "# loading model, tokeniser and text-generator\n",
        "tokenizer = AutoTokenizer.from_pretrained(\"deepseek-ai/deepseek-coder-1.3b-instruct\", trust_remote_code=True)\n",
        "model = AutoModelForCausalLM.from_pretrained(\n",
        "    \"deepseek-ai/deepseek-coder-1.3b-instruct\",\n",
        "    trust_remote_code=True,\n",
        "    load_in_8bit=True,\n",
        "    device_map=\"auto\",\n",
        "    llm_int8_enable_fp32_cpu_offload=True\n",
        ")\n",
        "generator = pipeline(\"text-generation\", model=model, tokenizer=tokenizer)\n",
        "\n",
        "# loading cheatsheet\n",
        "components_by_package, tag_to_package, tag_descriptions = parse_cheatsheet(\"cheatsheet.txt\")"
      ],
      "metadata": {
        "colab": {
          "base_uri": "https://localhost:8080/"
        },
        "id": "gvO6cqRejGLE",
        "outputId": "6bd0f6f1-d6c6-4030-bf3e-8e6b8135c018"
      },
      "execution_count": 37,
      "outputs": [
        {
          "output_type": "stream",
          "name": "stderr",
          "text": [
            "The `load_in_4bit` and `load_in_8bit` arguments are deprecated and will be removed in the future versions. Please, pass a `BitsAndBytesConfig` object in `quantization_config` argument instead.\n",
            "Device set to use cuda:0\n"
          ]
        }
      ]
    },
    {
      "cell_type": "code",
      "source": [
        "while True:\n",
        "  user_input = input(\"Prompt: \")\n",
        "  if user_input.lower() in (\"exit\"):\n",
        "        break\n",
        "  output = run_generation(user_input, generator, components_by_package, tag_to_package)\n",
        "  print(output)\n"
      ],
      "metadata": {
        "colab": {
          "base_uri": "https://localhost:8080/"
        },
        "id": "axDRag9rqu9B",
        "outputId": "b59c5ed0-4a99-441d-cde2-048beab76580"
      },
      "execution_count": null,
      "outputs": [
        {
          "output_type": "stream",
          "name": "stdout",
          "text": [
            "Prompt: help me make a card component with an input field,  password field, and a button that says login \n",
            "Sure, here is a simple example of a Card component with an Input field, Password field, and a Login button. You can use the same components as in your example.\n",
            "\n",
            "```jsx\n",
            "import { Button } from '@camped-ui/button'\n",
            "import { Card, CardContent, CardFooter, CardHeader, CardTitle } from '@camped-ui/card'\n",
            "import { Input } from '@camped-ui/input'\n",
            "import { Label } from '@camped-ui/label'\n",
            "\n",
            "export function CardWithForm() {\n",
            "  return (\n",
            "    <Card className=\"w-[350px]\">\n",
            "      <CardHeader>\n",
            "        <CardTitle>Login</CardTitle>\n",
            "      </CardHeader>\n",
            "      <CardContent>\n",
            "        <form>\n",
            "          <div className=\"grid w-full items-center gap-4\">\n",
            "            <div className=\"flex flex-col space-y-1.5\">\n",
            "              <Label htmlFor=\"username\">Username</Label>\n",
            "              <Input id=\"username\" placeholder=\"Your username\" />\n",
            "            </div>\n",
            "            <div className=\"flex flex-col space-y-1.5\">\n",
            "              <Label htmlFor=\"password\">Password</Label>\n",
            "              <Input id=\"password\" type=\"password\" placeholder=\"Your password\" />\n",
            "            </div>\n",
            "          </div>\n",
            "        </form>\n",
            "      </CardContent>\n",
            "      <CardFooter className=\"flex justify-between\">\n",
            "        <Button variant=\"outline\">Cancel</Button>\n",
            "        <Button>Login</Button>\n",
            "      </CardFooter>\n",
            "    </Card>\n",
            "  )\n",
            "}\n",
            "```\n",
            "\n",
            "In this code, we are using the `Input` component from Camped UI for the input field and password field. The `Button` component from Camped UI is used for the login button. \n",
            "\n",
            "This is a very basic example and you may want to add more styles for better user experience.\n"
          ]
        }
      ]
    },
    {
      "cell_type": "code",
      "source": [],
      "metadata": {
        "id": "MglXhIJM3aWv"
      },
      "execution_count": null,
      "outputs": []
    }
  ]
}