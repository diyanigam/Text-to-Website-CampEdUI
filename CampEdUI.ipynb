{
  "nbformat": 4,
  "nbformat_minor": 0,
  "metadata": {
    "colab": {
      "provenance": [],
      "gpuType": "T4",
      "authorship_tag": "ABX9TyOO34jNOnZITIOHj8NK98AR",
      "include_colab_link": true
    },
    "kernelspec": {
      "name": "python3",
      "display_name": "Python 3"
    },
    "language_info": {
      "name": "python"
    },
    "accelerator": "GPU"
  },
  "cells": [
    {
      "cell_type": "markdown",
      "metadata": {
        "id": "view-in-github",
        "colab_type": "text"
      },
      "source": [
        "<a href=\"https://colab.research.google.com/github/diyanigam/Text-to-Website-CampEdUI/blob/main/CampEdUI.ipynb\" target=\"_parent\"><img src=\"https://colab.research.google.com/assets/colab-badge.svg\" alt=\"Open In Colab\"/></a>"
      ]
    },
    {
      "cell_type": "code",
      "source": [
        "import re\n",
        "from collections import defaultdict\n",
        "\n",
        "def parse_cheatsheet(file_path):\n",
        "    with open(file_path, 'r') as f:\n",
        "        lines = f.readlines()\n",
        "\n",
        "    components_by_package = defaultdict(list)\n",
        "    tag_to_package = {}\n",
        "    tag_descriptions = {}\n",
        "    current_package = None\n",
        "    current_desc = \"\"\n",
        "\n",
        "    for line in lines:\n",
        "        line = line.strip()\n",
        "\n",
        "        if line.startswith(\"- @camped-ui/\"):\n",
        "            current_package = line.split()[0][2:]\n",
        "        elif line.startswith(\"Description:\"):\n",
        "            current_desc = line.replace(\"Description:\", \"\").strip()\n",
        "        elif line.startswith(\"• <\"):\n",
        "            tag = re.findall(r\"<(.*?)>\", line)[0]\n",
        "            components_by_package[current_package].append(tag)\n",
        "            tag_to_package[tag] = current_package\n",
        "            tag_descriptions[tag] = current_desc\n",
        "\n",
        "    return components_by_package, tag_to_package, tag_descriptions"
      ],
      "metadata": {
        "id": "bBzsw2YsiyHU"
      },
      "execution_count": 21,
      "outputs": []
    },
    {
      "cell_type": "code",
      "source": [
        "def infer_components_from_prompt(prompt, tag_to_package):\n",
        "    used_tags = []\n",
        "    for tag in tag_to_package:\n",
        "        if tag.lower() in prompt.lower():\n",
        "            used_tags.append(tag)\n",
        "    return list(set(used_tags))\n",
        "\n",
        "def generate_imports(used_tags, tag_to_package):\n",
        "    pkg_to_tags = defaultdict(list)\n",
        "    for tag in used_tags:\n",
        "        pkg = tag_to_package.get(tag)\n",
        "        if pkg:\n",
        "            pkg_to_tags[pkg].append(tag)\n",
        "\n",
        "    import_lines = []\n",
        "    for pkg, tags in pkg_to_tags.items():\n",
        "        line = f'import {{ {\", \".join(sorted(set(tags))) } }} from \"{pkg}\";'\n",
        "        import_lines.append(line)\n",
        "\n",
        "    return \"\\n\".join(import_lines)"
      ],
      "metadata": {
        "id": "NskVHxQOiyKW"
      },
      "execution_count": 22,
      "outputs": []
    },
    {
      "cell_type": "code",
      "source": [
        "def build_prompt(prompt_text, import_block):\n",
        "    return f\"\"\"\n",
        "### Instruction:\n",
        "You are a Next.js code generator.\n",
        "\n",
        "ONLY use components from Camped UI (https://ui.camped.academy/docs/components).\n",
        "NEVER use raw HTML like <input>, <form>, or <button>.\n",
        "\n",
        "Use Tailwind CSS for layout.\n",
        "Output valid JSX code for a Next.js page.\n",
        "\n",
        "For Example, to make a card component with name input field, a framework drop-down menu, deploy and cancel button, the following should be the output:\n",
        "import {{ Button }} from \"@camped-ui/button\"\n",
        "import {{\n",
        "  Card,\n",
        "  CardContent,\n",
        "  CardDescription,\n",
        "  CardFooter,\n",
        "  CardHeader,\n",
        "  CardTitle,\n",
        "}} from \"@camped-ui/card\"\n",
        "import {{ Input }} from \"@camped-ui/input\"\n",
        "import {{ Label }} from \"@camped-ui/label\"\n",
        "import {{\n",
        "  Select,\n",
        "  SelectContent,\n",
        "  SelectItem,\n",
        "  SelectTrigger,\n",
        "  SelectValue,\n",
        "}} from \"@camped-ui/select\"\n",
        "\n",
        "export function CardWithForm() {{\n",
        "  return (\n",
        "    <Card className=\"w-[350px]\">\n",
        "      <CardHeader>\n",
        "        <CardTitle>Create project</CardTitle>\n",
        "        <CardDescription>Deploy your new project in one-click.</CardDescription>\n",
        "      </CardHeader>\n",
        "      <CardContent>\n",
        "        <form>\n",
        "          <div className=\"grid w-full items-center gap-4\">\n",
        "            <div className=\"flex flex-col space-y-1.5\">\n",
        "              <Label htmlFor=\"name\">Name</Label>\n",
        "              <Input id=\"name\" placeholder=\"Name of your project\" />\n",
        "            </div>\n",
        "            <div className=\"flex flex-col space-y-1.5\">\n",
        "              <Label htmlFor=\"framework\">Framework</Label>\n",
        "              <Select>\n",
        "                <SelectTrigger id=\"framework\">\n",
        "                  <SelectValue placeholder=\"Select\" />\n",
        "                </SelectTrigger>\n",
        "                <SelectContent position=\"popper\">\n",
        "                  <SelectItem value=\"next\">Next.js</SelectItem>\n",
        "                  <SelectItem value=\"sveltekit\">SvelteKit</SelectItem>\n",
        "                  <SelectItem value=\"astro\">Astro</SelectItem>\n",
        "                  <SelectItem value=\"nuxt\">Nuxt.js</SelectItem>\n",
        "                </SelectContent>\n",
        "              </Select>\n",
        "            </div>\n",
        "          </div>\n",
        "        </form>\n",
        "      </CardContent>\n",
        "      <CardFooter className=\"flex justify-between\">\n",
        "        <Button variant=\"outline\">Cancel</Button>\n",
        "        <Button>Deploy</Button>\n",
        "      </CardFooter>\n",
        "    </Card>\n",
        "  )\n",
        "}}\n",
        "\n",
        "Here are the allowed imports:\n",
        "{import_block}\n",
        "\n",
        "### Prompt:\n",
        "{prompt_text}\n",
        "\n",
        "### Response:\n",
        "\"\"\".strip()\n"
      ],
      "metadata": {
        "id": "csOUvXUZiyNM"
      },
      "execution_count": 24,
      "outputs": []
    },
    {
      "cell_type": "code",
      "source": [
        "def run_generation(user_prompt, generator, components_by_package, tag_to_package):\n",
        "    # Step 1: Infer used components from the user's intent\n",
        "    used_tags = infer_components_from_prompt(user_prompt, tag_to_package)\n",
        "    if not used_tags:\n",
        "        # fallback: use default common imports\n",
        "        used_tags = [\"Button\", \"Card\", \"CardContent\", \"CardHeader\", \"CardTitle\"]\n",
        "\n",
        "    # Step 2: Create import block\n",
        "    import_block = generate_imports(used_tags, tag_to_package)\n",
        "\n",
        "    # Step 3: Build model prompt\n",
        "    full_prompt = build_prompt(user_prompt, import_block)\n",
        "\n",
        "    # Step 4: Generate output\n",
        "    output = generator(full_prompt, max_new_tokens=512, do_sample=True, temperature=0.7, return_full_text=False)\n",
        "    return output[0][\"generated_text\"].strip()\n"
      ],
      "metadata": {
        "id": "xlV01iKNjGIP"
      },
      "execution_count": 25,
      "outputs": []
    },
    {
      "cell_type": "code",
      "source": [
        "from transformers import AutoTokenizer, AutoModelForCausalLM, pipeline\n",
        "\n",
        "# Load model\n",
        "tokenizer = AutoTokenizer.from_pretrained(\"deepseek-ai/deepseek-coder-1.3b-instruct\", trust_remote_code=True)\n",
        "model = AutoModelForCausalLM.from_pretrained(\n",
        "    \"deepseek-ai/deepseek-coder-1.3b-instruct\",\n",
        "    trust_remote_code=True,\n",
        "    load_in_8bit=True,\n",
        "    device_map=\"auto\",\n",
        "    llm_int8_enable_fp32_cpu_offload=True\n",
        ")\n",
        "generator = pipeline(\"text-generation\", model=model, tokenizer=tokenizer)\n",
        "\n",
        "# Load cheatsheet\n",
        "components_by_package, tag_to_package, tag_descriptions = parse_cheatsheet(\"cheatsheet.txt\")\n",
        "\n",
        "# Generate\n",
        "user_input = \"Create a login page with email input, password input, and a submit button\"\n",
        "jsx_code = run_generation(user_input, generator, components_by_package, tag_to_package)\n",
        "print(jsx_code)"
      ],
      "metadata": {
        "colab": {
          "base_uri": "https://localhost:8080/"
        },
        "id": "gvO6cqRejGLE",
        "outputId": "66979f7d-e569-4d53-abaa-26e051a7c08e"
      },
      "execution_count": 27,
      "outputs": [
        {
          "output_type": "stream",
          "name": "stderr",
          "text": [
            "The `load_in_4bit` and `load_in_8bit` arguments are deprecated and will be removed in the future versions. Please, pass a `BitsAndBytesConfig` object in `quantization_config` argument instead.\n",
            "Device set to use cuda:0\n"
          ]
        },
        {
          "output_type": "stream",
          "name": "stdout",
          "text": [
            "Here is a simple component for a login page using the components from Camped UI:\n",
            "\n",
            "```jsx\n",
            "import { Button } from \"@camped-ui/button\"\n",
            "import { Card, CardContent, CardDescription, CardHeader, CardTitle } from \"@camped-ui/card\"\n",
            "import { Input } from \"@camped-ui/input\"\n",
            "import { Label } from \"@camped-ui/label\"\n",
            "\n",
            "export function LoginPage() {\n",
            "  return (\n",
            "    <Card className=\"w-[350px]\">\n",
            "      <CardHeader>\n",
            "        <CardTitle>Login</CardTitle>\n",
            "        <CardDescription>Please enter your credentials to access the system.</CardDescription>\n",
            "      </CardHeader>\n",
            "      <CardContent>\n",
            "        <form>\n",
            "          <div className=\"grid w-full items-center gap-4\">\n",
            "            <div className=\"flex flex-col space-y-1.5\">\n",
            "              <Label htmlFor=\"email\">Email</Label>\n",
            "              <Input id=\"email\" placeholder=\"Your email\" />\n",
            "            </div>\n",
            "            <div className=\"flex flex-col space-y-1.5\">\n",
            "              <Label htmlFor=\"password\">Password</Label>\n",
            "              <Input id=\"password\" placeholder=\"Your password\" type=\"password\" />\n",
            "            </div>\n",
            "          </div>\n",
            "          <Button type=\"submit\">Submit</Button>\n",
            "        </form>\n",
            "      </CardContent>\n",
            "    </Card>\n",
            "  )\n",
            "}\n",
            "```\n",
            "\n",
            "This will create a login page with email and password inputs and a submit button. The password input field is set to \"password\" type to hide the input. You can replace these inputs with your own components or use components from another library if required.\n"
          ]
        }
      ]
    },
    {
      "cell_type": "code",
      "source": [],
      "metadata": {
        "id": "y4YwuBopjGON"
      },
      "execution_count": null,
      "outputs": []
    },
    {
      "cell_type": "code",
      "source": [],
      "metadata": {
        "id": "uYx5uQX6jGQz"
      },
      "execution_count": null,
      "outputs": []
    },
    {
      "cell_type": "code",
      "source": [],
      "metadata": {
        "id": "cHAb3mwbjGTJ"
      },
      "execution_count": null,
      "outputs": []
    },
    {
      "cell_type": "code",
      "source": [
        "# Loading model, tokenizer and setting pipeline for text-generation\n",
        "from transformers import AutoTokenizer, AutoModelForCausalLM, pipeline\n",
        "\n",
        "tokenizer = AutoTokenizer.from_pretrained(\"deepseek-ai/deepseek-coder-1.3b-instruct\",\n",
        "                                          trust_remote_code=True)\n",
        "model = AutoModelForCausalLM.from_pretrained(\"deepseek-ai/deepseek-coder-1.3b-instruct\",\n",
        "                                             trust_remote_code=True,\n",
        "                                             load_in_8bit=True,\n",
        "                                             device_map=\"auto\",\n",
        "                                             # Enable FP32 CPU offload for 8-bit quantization\n",
        "                                             llm_int8_enable_fp32_cpu_offload=True)\n",
        "\n",
        "\n",
        "generator = pipeline(\"text-generation\", model=model, tokenizer=tokenizer)\n"
      ],
      "metadata": {
        "colab": {
          "base_uri": "https://localhost:8080/"
        },
        "id": "KRnx7LWFTg3w",
        "outputId": "80bbeea6-9c44-43f7-9792-14661ab519e2"
      },
      "execution_count": 2,
      "outputs": [
        {
          "output_type": "stream",
          "name": "stderr",
          "text": [
            "The `load_in_4bit` and `load_in_8bit` arguments are deprecated and will be removed in the future versions. Please, pass a `BitsAndBytesConfig` object in `quantization_config` argument instead.\n",
            "Device set to use cuda:0\n"
          ]
        }
      ]
    },
    {
      "cell_type": "code",
      "source": [
        "#instructions for the model to follow\n",
        "instructions = \"\"\"You are a Next.js code generator.\n",
        "\n",
        "ONLY use components from Camped UI (https://ui.camped.academy/docs/components).\n",
        "Import components like this:\n",
        "  import { Button } from \"@camped-ui/button\";\n",
        "  import { Input } from \"@camped-ui/input\";\n",
        "  import { Label } from \"@camped-ui/label\";\n",
        "  import { Card, CardHeader, CardContent, CardTitle } from \"@camped-ui/card\";\n",
        "\n",
        "NEVER use raw HTML like <input>, <form>, or <button>.\n",
        "\n",
        "✅ Use Tailwind CSS for layout.\n",
        "✅ Output valid JSX code for Next.js page.\n",
        "\n",
        "ONLY GIVE THE CODE AS OUTPUT\n",
        "\"\"\"\n",
        "#user prompt\n",
        "prompt = \"\"\"\n",
        "\n",
        "Generate a home page with heading that says \"find yourself here\" and button that says \"click me\" in between\n",
        "\"\"\"\n",
        "result = f\"{instructions}\\n {prompt}\"\n",
        "print(result)\n"
      ],
      "metadata": {
        "colab": {
          "base_uri": "https://localhost:8080/"
        },
        "id": "wqR-LL3IQygq",
        "outputId": "d0f6c712-3be5-4a1b-d585-eab239a00981"
      },
      "execution_count": 16,
      "outputs": [
        {
          "output_type": "stream",
          "name": "stdout",
          "text": [
            "You are a Next.js code generator.\n",
            "\n",
            "ONLY use components from Camped UI (https://ui.camped.academy/docs/components).\n",
            "Import components like this:\n",
            "  import { Button } from \"@camped-ui/button\";\n",
            "  import { Input } from \"@camped-ui/input\";\n",
            "  import { Label } from \"@camped-ui/label\";\n",
            "  import { Card, CardHeader, CardContent, CardTitle } from \"@camped-ui/card\";\n",
            "\n",
            "NEVER use raw HTML like <input>, <form>, or <button>.\n",
            "\n",
            "✅ Use Tailwind CSS for layout.\n",
            "✅ Output valid JSX code for Next.js page.\n",
            "\n",
            "ONLY GIVE THE CODE AS OUTPUT\n",
            "\n",
            " \n",
            "\n",
            "Generate a home page with heading that says \"find yourself here\" and button that says \"click me\" in between\n",
            "\n"
          ]
        }
      ]
    },
    {
      "cell_type": "code",
      "source": [
        "output = generator(result, max_new_tokens=512, do_sample=True, temperature=0.7)\n",
        "print(output[0][\"generated_text\"])"
      ],
      "metadata": {
        "colab": {
          "base_uri": "https://localhost:8080/"
        },
        "id": "No-BZOV0edMA",
        "outputId": "f9f073df-2455-4d1f-ab1d-71baf39d5ba4"
      },
      "execution_count": 17,
      "outputs": [
        {
          "output_type": "stream",
          "name": "stdout",
          "text": [
            "You are a Next.js code generator.\n",
            "\n",
            "ONLY use components from Camped UI (https://ui.camped.academy/docs/components).\n",
            "Import components like this:\n",
            "  import { Button } from \"@camped-ui/button\";\n",
            "  import { Input } from \"@camped-ui/input\";\n",
            "  import { Label } from \"@camped-ui/label\";\n",
            "  import { Card, CardHeader, CardContent, CardTitle } from \"@camped-ui/card\";\n",
            "\n",
            "NEVER use raw HTML like <input>, <form>, or <button>.\n",
            "\n",
            "✅ Use Tailwind CSS for layout.\n",
            "✅ Output valid JSX code for Next.js page.\n",
            "\n",
            "ONLY GIVE THE CODE AS OUTPUT\n",
            "\n",
            " \n",
            "\n",
            "Generate a home page with heading that says \"find yourself here\" and button that says \"click me\" in between\n",
            " \n",
            "\n",
            "\n",
            "\n",
            " \n",
            "\n",
            " \n",
            "\n",
            "# HomePage\n",
            "\n",
            "```jsx\n",
            "import { Button } from \"@camped-ui/button\";\n",
            "import { Card, CardHeader, CardContent, CardTitle } from \"@camped-ui/card\";\n",
            "\n",
            "export default function HomePage() {\n",
            "  return (\n",
            "    <div className=\"flex flex-col items-center justify-center h-screen\">\n",
            "      <Card>\n",
            "        <CardHeader>\n",
            "          <CardTitle>Find Yourself Here</CardTitle>\n",
            "        </CardHeader>\n",
            "        <CardContent>\n",
            "          <p>This is a simple card</p>\n",
            "          <Button>Click Me</Button>\n",
            "        </CardContent>\n",
            "      </Card>\n",
            "    </div>\n",
            "  );\n",
            "}\n",
            "```\n",
            "\n",
            "This is a simple implementation. You can customize the components according to your needs.\n",
            "\n"
          ]
        }
      ]
    },
    {
      "cell_type": "code",
      "source": [
        "output"
      ],
      "metadata": {
        "colab": {
          "base_uri": "https://localhost:8080/"
        },
        "id": "39gt3NKAfu3o",
        "outputId": "446d7d0a-125a-4d6b-a789-3b2fc4da15f3"
      },
      "execution_count": 18,
      "outputs": [
        {
          "output_type": "execute_result",
          "data": {
            "text/plain": [
              "[{'generated_text': 'You are a Next.js code generator.\\n\\nONLY use components from Camped UI (https://ui.camped.academy/docs/components).\\nImport components like this:\\n  import { Button } from \"@camped-ui/button\";\\n  import { Input } from \"@camped-ui/input\";\\n  import { Label } from \"@camped-ui/label\";\\n  import { Card, CardHeader, CardContent, CardTitle } from \"@camped-ui/card\";\\n\\nNEVER use raw HTML like <input>, <form>, or <button>.\\n\\n✅ Use Tailwind CSS for layout.\\n✅ Output valid JSX code for Next.js page.\\n\\nONLY GIVE THE CODE AS OUTPUT\\n\\n \\n\\nGenerate a home page with heading that says \"find yourself here\" and button that says \"click me\" in between\\n \\n\\n\\n\\n \\n\\n \\n\\n# HomePage\\n\\n```jsx\\nimport { Button } from \"@camped-ui/button\";\\nimport { Card, CardHeader, CardContent, CardTitle } from \"@camped-ui/card\";\\n\\nexport default function HomePage() {\\n  return (\\n    <div className=\"flex flex-col items-center justify-center h-screen\">\\n      <Card>\\n        <CardHeader>\\n          <CardTitle>Find Yourself Here</CardTitle>\\n        </CardHeader>\\n        <CardContent>\\n          <p>This is a simple card</p>\\n          <Button>Click Me</Button>\\n        </CardContent>\\n      </Card>\\n    </div>\\n  );\\n}\\n```\\n\\nThis is a simple implementation. You can customize the components according to your needs.\\n'}]"
            ]
          },
          "metadata": {},
          "execution_count": 18
        }
      ]
    },
    {
      "cell_type": "code",
      "source": [],
      "metadata": {
        "id": "INRyp3Ure9UP"
      },
      "execution_count": null,
      "outputs": []
    },
    {
      "cell_type": "code",
      "source": [],
      "metadata": {
        "id": "lvhvRlxDe9XG"
      },
      "execution_count": null,
      "outputs": []
    }
  ]
}